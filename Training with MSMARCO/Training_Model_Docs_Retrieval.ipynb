{
  "nbformat": 4,
  "nbformat_minor": 0,
  "metadata": {
    "colab": {
      "name": "Training Model Docs Retrieval.ipynb",
      "provenance": []
    },
    "kernelspec": {
      "name": "python3",
      "display_name": "Python 3"
    },
    "language_info": {
      "name": "python"
    },
    "accelerator": "TPU",
    "widgets": {
      "application/vnd.jupyter.widget-state+json": {
        "86db544cf69b4c3eb41f36932c471f88": {
          "model_module": "@jupyter-widgets/controls",
          "model_name": "HBoxModel",
          "state": {
            "_view_name": "HBoxView",
            "_dom_classes": [],
            "_model_name": "HBoxModel",
            "_view_module": "@jupyter-widgets/controls",
            "_model_module_version": "1.5.0",
            "_view_count": null,
            "_view_module_version": "1.5.0",
            "box_style": "",
            "layout": "IPY_MODEL_c27c46a8349c40028503db24b99b684f",
            "_model_module": "@jupyter-widgets/controls",
            "children": [
              "IPY_MODEL_5f1ecc122f2544bb9a5192d1b9e529cb",
              "IPY_MODEL_f00acb694a5f49218432e132dc31bbc3"
            ]
          }
        },
        "c27c46a8349c40028503db24b99b684f": {
          "model_module": "@jupyter-widgets/base",
          "model_name": "LayoutModel",
          "state": {
            "_view_name": "LayoutView",
            "grid_template_rows": null,
            "right": null,
            "justify_content": null,
            "_view_module": "@jupyter-widgets/base",
            "overflow": null,
            "_model_module_version": "1.2.0",
            "_view_count": null,
            "flex_flow": null,
            "width": null,
            "min_width": null,
            "border": null,
            "align_items": null,
            "bottom": null,
            "_model_module": "@jupyter-widgets/base",
            "top": null,
            "grid_column": null,
            "overflow_y": null,
            "overflow_x": null,
            "grid_auto_flow": null,
            "grid_area": null,
            "grid_template_columns": null,
            "flex": null,
            "_model_name": "LayoutModel",
            "justify_items": null,
            "grid_row": null,
            "max_height": null,
            "align_content": null,
            "visibility": null,
            "align_self": null,
            "height": null,
            "min_height": null,
            "padding": null,
            "grid_auto_rows": null,
            "grid_gap": null,
            "max_width": null,
            "order": null,
            "_view_module_version": "1.2.0",
            "grid_template_areas": null,
            "object_position": null,
            "object_fit": null,
            "grid_auto_columns": null,
            "margin": null,
            "display": null,
            "left": null
          }
        },
        "5f1ecc122f2544bb9a5192d1b9e529cb": {
          "model_module": "@jupyter-widgets/controls",
          "model_name": "FloatProgressModel",
          "state": {
            "_view_name": "ProgressView",
            "style": "IPY_MODEL_01fa92c353474053b96b9d4cbf47200e",
            "_dom_classes": [],
            "description": "my bar!: 100%",
            "_model_name": "FloatProgressModel",
            "bar_style": "success",
            "max": 19505,
            "_view_module": "@jupyter-widgets/controls",
            "_model_module_version": "1.5.0",
            "value": 19505,
            "_view_count": null,
            "_view_module_version": "1.5.0",
            "orientation": "horizontal",
            "min": 0,
            "description_tooltip": null,
            "_model_module": "@jupyter-widgets/controls",
            "layout": "IPY_MODEL_b011e0356ceb4b3f8898cfe8b17b021c"
          }
        },
        "f00acb694a5f49218432e132dc31bbc3": {
          "model_module": "@jupyter-widgets/controls",
          "model_name": "HTMLModel",
          "state": {
            "_view_name": "HTMLView",
            "style": "IPY_MODEL_e8b4261a4ca0442586db65ec39cc5e3d",
            "_dom_classes": [],
            "description": "",
            "_model_name": "HTMLModel",
            "placeholder": "​",
            "_view_module": "@jupyter-widgets/controls",
            "_model_module_version": "1.5.0",
            "value": " 19505/19505 [00:22&lt;00:00, 877.35it/s]",
            "_view_count": null,
            "_view_module_version": "1.5.0",
            "description_tooltip": null,
            "_model_module": "@jupyter-widgets/controls",
            "layout": "IPY_MODEL_7da20868f2de4f26b55355374347d718"
          }
        },
        "01fa92c353474053b96b9d4cbf47200e": {
          "model_module": "@jupyter-widgets/controls",
          "model_name": "ProgressStyleModel",
          "state": {
            "_view_name": "StyleView",
            "_model_name": "ProgressStyleModel",
            "description_width": "initial",
            "_view_module": "@jupyter-widgets/base",
            "_model_module_version": "1.5.0",
            "_view_count": null,
            "_view_module_version": "1.2.0",
            "bar_color": null,
            "_model_module": "@jupyter-widgets/controls"
          }
        },
        "b011e0356ceb4b3f8898cfe8b17b021c": {
          "model_module": "@jupyter-widgets/base",
          "model_name": "LayoutModel",
          "state": {
            "_view_name": "LayoutView",
            "grid_template_rows": null,
            "right": null,
            "justify_content": null,
            "_view_module": "@jupyter-widgets/base",
            "overflow": null,
            "_model_module_version": "1.2.0",
            "_view_count": null,
            "flex_flow": null,
            "width": null,
            "min_width": null,
            "border": null,
            "align_items": null,
            "bottom": null,
            "_model_module": "@jupyter-widgets/base",
            "top": null,
            "grid_column": null,
            "overflow_y": null,
            "overflow_x": null,
            "grid_auto_flow": null,
            "grid_area": null,
            "grid_template_columns": null,
            "flex": null,
            "_model_name": "LayoutModel",
            "justify_items": null,
            "grid_row": null,
            "max_height": null,
            "align_content": null,
            "visibility": null,
            "align_self": null,
            "height": null,
            "min_height": null,
            "padding": null,
            "grid_auto_rows": null,
            "grid_gap": null,
            "max_width": null,
            "order": null,
            "_view_module_version": "1.2.0",
            "grid_template_areas": null,
            "object_position": null,
            "object_fit": null,
            "grid_auto_columns": null,
            "margin": null,
            "display": null,
            "left": null
          }
        },
        "e8b4261a4ca0442586db65ec39cc5e3d": {
          "model_module": "@jupyter-widgets/controls",
          "model_name": "DescriptionStyleModel",
          "state": {
            "_view_name": "StyleView",
            "_model_name": "DescriptionStyleModel",
            "description_width": "",
            "_view_module": "@jupyter-widgets/base",
            "_model_module_version": "1.5.0",
            "_view_count": null,
            "_view_module_version": "1.2.0",
            "_model_module": "@jupyter-widgets/controls"
          }
        },
        "7da20868f2de4f26b55355374347d718": {
          "model_module": "@jupyter-widgets/base",
          "model_name": "LayoutModel",
          "state": {
            "_view_name": "LayoutView",
            "grid_template_rows": null,
            "right": null,
            "justify_content": null,
            "_view_module": "@jupyter-widgets/base",
            "overflow": null,
            "_model_module_version": "1.2.0",
            "_view_count": null,
            "flex_flow": null,
            "width": null,
            "min_width": null,
            "border": null,
            "align_items": null,
            "bottom": null,
            "_model_module": "@jupyter-widgets/base",
            "top": null,
            "grid_column": null,
            "overflow_y": null,
            "overflow_x": null,
            "grid_auto_flow": null,
            "grid_area": null,
            "grid_template_columns": null,
            "flex": null,
            "_model_name": "LayoutModel",
            "justify_items": null,
            "grid_row": null,
            "max_height": null,
            "align_content": null,
            "visibility": null,
            "align_self": null,
            "height": null,
            "min_height": null,
            "padding": null,
            "grid_auto_rows": null,
            "grid_gap": null,
            "max_width": null,
            "order": null,
            "_view_module_version": "1.2.0",
            "grid_template_areas": null,
            "object_position": null,
            "object_fit": null,
            "grid_auto_columns": null,
            "margin": null,
            "display": null,
            "left": null
          }
        },
        "c77661cc5f9849288453442f3f5eda07": {
          "model_module": "@jupyter-widgets/controls",
          "model_name": "HBoxModel",
          "state": {
            "_view_name": "HBoxView",
            "_dom_classes": [],
            "_model_name": "HBoxModel",
            "_view_module": "@jupyter-widgets/controls",
            "_model_module_version": "1.5.0",
            "_view_count": null,
            "_view_module_version": "1.5.0",
            "box_style": "",
            "layout": "IPY_MODEL_ec26c8d2c44c43df98e0467cb74ae0ff",
            "_model_module": "@jupyter-widgets/controls",
            "children": [
              "IPY_MODEL_a2bb08eedceb409fb539434bf41a33b8",
              "IPY_MODEL_f3a9ed689eb444c2aba7d2f71d39c0bd"
            ]
          }
        },
        "ec26c8d2c44c43df98e0467cb74ae0ff": {
          "model_module": "@jupyter-widgets/base",
          "model_name": "LayoutModel",
          "state": {
            "_view_name": "LayoutView",
            "grid_template_rows": null,
            "right": null,
            "justify_content": null,
            "_view_module": "@jupyter-widgets/base",
            "overflow": null,
            "_model_module_version": "1.2.0",
            "_view_count": null,
            "flex_flow": null,
            "width": null,
            "min_width": null,
            "border": null,
            "align_items": null,
            "bottom": null,
            "_model_module": "@jupyter-widgets/base",
            "top": null,
            "grid_column": null,
            "overflow_y": null,
            "overflow_x": null,
            "grid_auto_flow": null,
            "grid_area": null,
            "grid_template_columns": null,
            "flex": null,
            "_model_name": "LayoutModel",
            "justify_items": null,
            "grid_row": null,
            "max_height": null,
            "align_content": null,
            "visibility": null,
            "align_self": null,
            "height": null,
            "min_height": null,
            "padding": null,
            "grid_auto_rows": null,
            "grid_gap": null,
            "max_width": null,
            "order": null,
            "_view_module_version": "1.2.0",
            "grid_template_areas": null,
            "object_position": null,
            "object_fit": null,
            "grid_auto_columns": null,
            "margin": null,
            "display": null,
            "left": null
          }
        },
        "a2bb08eedceb409fb539434bf41a33b8": {
          "model_module": "@jupyter-widgets/controls",
          "model_name": "FloatProgressModel",
          "state": {
            "_view_name": "ProgressView",
            "style": "IPY_MODEL_d795a00d53084bd384dacc988322aa58",
            "_dom_classes": [],
            "description": "my bar!: 100%",
            "_model_name": "FloatProgressModel",
            "bar_style": "success",
            "max": 19570,
            "_view_module": "@jupyter-widgets/controls",
            "_model_module_version": "1.5.0",
            "value": 19570,
            "_view_count": null,
            "_view_module_version": "1.5.0",
            "orientation": "horizontal",
            "min": 0,
            "description_tooltip": null,
            "_model_module": "@jupyter-widgets/controls",
            "layout": "IPY_MODEL_8fde5ae3625c4e25b4aefc542e96781a"
          }
        },
        "f3a9ed689eb444c2aba7d2f71d39c0bd": {
          "model_module": "@jupyter-widgets/controls",
          "model_name": "HTMLModel",
          "state": {
            "_view_name": "HTMLView",
            "style": "IPY_MODEL_cc417ceda1e74a528cc19e896c28b0f8",
            "_dom_classes": [],
            "description": "",
            "_model_name": "HTMLModel",
            "placeholder": "​",
            "_view_module": "@jupyter-widgets/controls",
            "_model_module_version": "1.5.0",
            "value": " 19570/19570 [00:10&lt;00:00, 1800.53it/s]",
            "_view_count": null,
            "_view_module_version": "1.5.0",
            "description_tooltip": null,
            "_model_module": "@jupyter-widgets/controls",
            "layout": "IPY_MODEL_93c907be97b647b2a8bdd8cbdae14a00"
          }
        },
        "d795a00d53084bd384dacc988322aa58": {
          "model_module": "@jupyter-widgets/controls",
          "model_name": "ProgressStyleModel",
          "state": {
            "_view_name": "StyleView",
            "_model_name": "ProgressStyleModel",
            "description_width": "initial",
            "_view_module": "@jupyter-widgets/base",
            "_model_module_version": "1.5.0",
            "_view_count": null,
            "_view_module_version": "1.2.0",
            "bar_color": null,
            "_model_module": "@jupyter-widgets/controls"
          }
        },
        "8fde5ae3625c4e25b4aefc542e96781a": {
          "model_module": "@jupyter-widgets/base",
          "model_name": "LayoutModel",
          "state": {
            "_view_name": "LayoutView",
            "grid_template_rows": null,
            "right": null,
            "justify_content": null,
            "_view_module": "@jupyter-widgets/base",
            "overflow": null,
            "_model_module_version": "1.2.0",
            "_view_count": null,
            "flex_flow": null,
            "width": null,
            "min_width": null,
            "border": null,
            "align_items": null,
            "bottom": null,
            "_model_module": "@jupyter-widgets/base",
            "top": null,
            "grid_column": null,
            "overflow_y": null,
            "overflow_x": null,
            "grid_auto_flow": null,
            "grid_area": null,
            "grid_template_columns": null,
            "flex": null,
            "_model_name": "LayoutModel",
            "justify_items": null,
            "grid_row": null,
            "max_height": null,
            "align_content": null,
            "visibility": null,
            "align_self": null,
            "height": null,
            "min_height": null,
            "padding": null,
            "grid_auto_rows": null,
            "grid_gap": null,
            "max_width": null,
            "order": null,
            "_view_module_version": "1.2.0",
            "grid_template_areas": null,
            "object_position": null,
            "object_fit": null,
            "grid_auto_columns": null,
            "margin": null,
            "display": null,
            "left": null
          }
        },
        "cc417ceda1e74a528cc19e896c28b0f8": {
          "model_module": "@jupyter-widgets/controls",
          "model_name": "DescriptionStyleModel",
          "state": {
            "_view_name": "StyleView",
            "_model_name": "DescriptionStyleModel",
            "description_width": "",
            "_view_module": "@jupyter-widgets/base",
            "_model_module_version": "1.5.0",
            "_view_count": null,
            "_view_module_version": "1.2.0",
            "_model_module": "@jupyter-widgets/controls"
          }
        },
        "93c907be97b647b2a8bdd8cbdae14a00": {
          "model_module": "@jupyter-widgets/base",
          "model_name": "LayoutModel",
          "state": {
            "_view_name": "LayoutView",
            "grid_template_rows": null,
            "right": null,
            "justify_content": null,
            "_view_module": "@jupyter-widgets/base",
            "overflow": null,
            "_model_module_version": "1.2.0",
            "_view_count": null,
            "flex_flow": null,
            "width": null,
            "min_width": null,
            "border": null,
            "align_items": null,
            "bottom": null,
            "_model_module": "@jupyter-widgets/base",
            "top": null,
            "grid_column": null,
            "overflow_y": null,
            "overflow_x": null,
            "grid_auto_flow": null,
            "grid_area": null,
            "grid_template_columns": null,
            "flex": null,
            "_model_name": "LayoutModel",
            "justify_items": null,
            "grid_row": null,
            "max_height": null,
            "align_content": null,
            "visibility": null,
            "align_self": null,
            "height": null,
            "min_height": null,
            "padding": null,
            "grid_auto_rows": null,
            "grid_gap": null,
            "max_width": null,
            "order": null,
            "_view_module_version": "1.2.0",
            "grid_template_areas": null,
            "object_position": null,
            "object_fit": null,
            "grid_auto_columns": null,
            "margin": null,
            "display": null,
            "left": null
          }
        },
        "6a40b6d31e3247a7a9cc153616eb1bcf": {
          "model_module": "@jupyter-widgets/controls",
          "model_name": "HBoxModel",
          "state": {
            "_view_name": "HBoxView",
            "_dom_classes": [],
            "_model_name": "HBoxModel",
            "_view_module": "@jupyter-widgets/controls",
            "_model_module_version": "1.5.0",
            "_view_count": null,
            "_view_module_version": "1.5.0",
            "box_style": "",
            "layout": "IPY_MODEL_d2724428dbe24f8b92f78dd9d1758bf1",
            "_model_module": "@jupyter-widgets/controls",
            "children": [
              "IPY_MODEL_aa5224fece5245f99021975d006ed599",
              "IPY_MODEL_7d06b87a7cd342eda1ce34f83dac7794"
            ]
          }
        },
        "d2724428dbe24f8b92f78dd9d1758bf1": {
          "model_module": "@jupyter-widgets/base",
          "model_name": "LayoutModel",
          "state": {
            "_view_name": "LayoutView",
            "grid_template_rows": null,
            "right": null,
            "justify_content": null,
            "_view_module": "@jupyter-widgets/base",
            "overflow": null,
            "_model_module_version": "1.2.0",
            "_view_count": null,
            "flex_flow": null,
            "width": null,
            "min_width": null,
            "border": null,
            "align_items": null,
            "bottom": null,
            "_model_module": "@jupyter-widgets/base",
            "top": null,
            "grid_column": null,
            "overflow_y": null,
            "overflow_x": null,
            "grid_auto_flow": null,
            "grid_area": null,
            "grid_template_columns": null,
            "flex": null,
            "_model_name": "LayoutModel",
            "justify_items": null,
            "grid_row": null,
            "max_height": null,
            "align_content": null,
            "visibility": null,
            "align_self": null,
            "height": null,
            "min_height": null,
            "padding": null,
            "grid_auto_rows": null,
            "grid_gap": null,
            "max_width": null,
            "order": null,
            "_view_module_version": "1.2.0",
            "grid_template_areas": null,
            "object_position": null,
            "object_fit": null,
            "grid_auto_columns": null,
            "margin": null,
            "display": null,
            "left": null
          }
        },
        "aa5224fece5245f99021975d006ed599": {
          "model_module": "@jupyter-widgets/controls",
          "model_name": "FloatProgressModel",
          "state": {
            "_view_name": "ProgressView",
            "style": "IPY_MODEL_12731e0e5f8c436f8663bd7f11ec7049",
            "_dom_classes": [],
            "description": "my bar!: 100%",
            "_model_name": "FloatProgressModel",
            "bar_style": "success",
            "max": 1000,
            "_view_module": "@jupyter-widgets/controls",
            "_model_module_version": "1.5.0",
            "value": 1000,
            "_view_count": null,
            "_view_module_version": "1.5.0",
            "orientation": "horizontal",
            "min": 0,
            "description_tooltip": null,
            "_model_module": "@jupyter-widgets/controls",
            "layout": "IPY_MODEL_c1b908fc108444db80531c720e815373"
          }
        },
        "7d06b87a7cd342eda1ce34f83dac7794": {
          "model_module": "@jupyter-widgets/controls",
          "model_name": "HTMLModel",
          "state": {
            "_view_name": "HTMLView",
            "style": "IPY_MODEL_7bc7a06268a2440c89bceebb89de8385",
            "_dom_classes": [],
            "description": "",
            "_model_name": "HTMLModel",
            "placeholder": "​",
            "_view_module": "@jupyter-widgets/controls",
            "_model_module_version": "1.5.0",
            "value": " 1000/1000 [00:00&lt;00:00, 10096.37it/s]",
            "_view_count": null,
            "_view_module_version": "1.5.0",
            "description_tooltip": null,
            "_model_module": "@jupyter-widgets/controls",
            "layout": "IPY_MODEL_0bed03700ea74300950d0e240e676966"
          }
        },
        "12731e0e5f8c436f8663bd7f11ec7049": {
          "model_module": "@jupyter-widgets/controls",
          "model_name": "ProgressStyleModel",
          "state": {
            "_view_name": "StyleView",
            "_model_name": "ProgressStyleModel",
            "description_width": "initial",
            "_view_module": "@jupyter-widgets/base",
            "_model_module_version": "1.5.0",
            "_view_count": null,
            "_view_module_version": "1.2.0",
            "bar_color": null,
            "_model_module": "@jupyter-widgets/controls"
          }
        },
        "c1b908fc108444db80531c720e815373": {
          "model_module": "@jupyter-widgets/base",
          "model_name": "LayoutModel",
          "state": {
            "_view_name": "LayoutView",
            "grid_template_rows": null,
            "right": null,
            "justify_content": null,
            "_view_module": "@jupyter-widgets/base",
            "overflow": null,
            "_model_module_version": "1.2.0",
            "_view_count": null,
            "flex_flow": null,
            "width": null,
            "min_width": null,
            "border": null,
            "align_items": null,
            "bottom": null,
            "_model_module": "@jupyter-widgets/base",
            "top": null,
            "grid_column": null,
            "overflow_y": null,
            "overflow_x": null,
            "grid_auto_flow": null,
            "grid_area": null,
            "grid_template_columns": null,
            "flex": null,
            "_model_name": "LayoutModel",
            "justify_items": null,
            "grid_row": null,
            "max_height": null,
            "align_content": null,
            "visibility": null,
            "align_self": null,
            "height": null,
            "min_height": null,
            "padding": null,
            "grid_auto_rows": null,
            "grid_gap": null,
            "max_width": null,
            "order": null,
            "_view_module_version": "1.2.0",
            "grid_template_areas": null,
            "object_position": null,
            "object_fit": null,
            "grid_auto_columns": null,
            "margin": null,
            "display": null,
            "left": null
          }
        },
        "7bc7a06268a2440c89bceebb89de8385": {
          "model_module": "@jupyter-widgets/controls",
          "model_name": "DescriptionStyleModel",
          "state": {
            "_view_name": "StyleView",
            "_model_name": "DescriptionStyleModel",
            "description_width": "",
            "_view_module": "@jupyter-widgets/base",
            "_model_module_version": "1.5.0",
            "_view_count": null,
            "_view_module_version": "1.2.0",
            "_model_module": "@jupyter-widgets/controls"
          }
        },
        "0bed03700ea74300950d0e240e676966": {
          "model_module": "@jupyter-widgets/base",
          "model_name": "LayoutModel",
          "state": {
            "_view_name": "LayoutView",
            "grid_template_rows": null,
            "right": null,
            "justify_content": null,
            "_view_module": "@jupyter-widgets/base",
            "overflow": null,
            "_model_module_version": "1.2.0",
            "_view_count": null,
            "flex_flow": null,
            "width": null,
            "min_width": null,
            "border": null,
            "align_items": null,
            "bottom": null,
            "_model_module": "@jupyter-widgets/base",
            "top": null,
            "grid_column": null,
            "overflow_y": null,
            "overflow_x": null,
            "grid_auto_flow": null,
            "grid_area": null,
            "grid_template_columns": null,
            "flex": null,
            "_model_name": "LayoutModel",
            "justify_items": null,
            "grid_row": null,
            "max_height": null,
            "align_content": null,
            "visibility": null,
            "align_self": null,
            "height": null,
            "min_height": null,
            "padding": null,
            "grid_auto_rows": null,
            "grid_gap": null,
            "max_width": null,
            "order": null,
            "_view_module_version": "1.2.0",
            "grid_template_areas": null,
            "object_position": null,
            "object_fit": null,
            "grid_auto_columns": null,
            "margin": null,
            "display": null,
            "left": null
          }
        },
        "7d67dec081304fd7ae366daa0f04bce1": {
          "model_module": "@jupyter-widgets/controls",
          "model_name": "HBoxModel",
          "state": {
            "_view_name": "HBoxView",
            "_dom_classes": [],
            "_model_name": "HBoxModel",
            "_view_module": "@jupyter-widgets/controls",
            "_model_module_version": "1.5.0",
            "_view_count": null,
            "_view_module_version": "1.5.0",
            "box_style": "",
            "layout": "IPY_MODEL_7e59e55eb57f4a6b8c167596635887b1",
            "_model_module": "@jupyter-widgets/controls",
            "children": [
              "IPY_MODEL_55c3e5173a934e798d714c4cbb532336",
              "IPY_MODEL_edb1e2ac8da74d2dbeacc976dfeea177"
            ]
          }
        },
        "7e59e55eb57f4a6b8c167596635887b1": {
          "model_module": "@jupyter-widgets/base",
          "model_name": "LayoutModel",
          "state": {
            "_view_name": "LayoutView",
            "grid_template_rows": null,
            "right": null,
            "justify_content": null,
            "_view_module": "@jupyter-widgets/base",
            "overflow": null,
            "_model_module_version": "1.2.0",
            "_view_count": null,
            "flex_flow": null,
            "width": null,
            "min_width": null,
            "border": null,
            "align_items": null,
            "bottom": null,
            "_model_module": "@jupyter-widgets/base",
            "top": null,
            "grid_column": null,
            "overflow_y": null,
            "overflow_x": null,
            "grid_auto_flow": null,
            "grid_area": null,
            "grid_template_columns": null,
            "flex": null,
            "_model_name": "LayoutModel",
            "justify_items": null,
            "grid_row": null,
            "max_height": null,
            "align_content": null,
            "visibility": null,
            "align_self": null,
            "height": null,
            "min_height": null,
            "padding": null,
            "grid_auto_rows": null,
            "grid_gap": null,
            "max_width": null,
            "order": null,
            "_view_module_version": "1.2.0",
            "grid_template_areas": null,
            "object_position": null,
            "object_fit": null,
            "grid_auto_columns": null,
            "margin": null,
            "display": null,
            "left": null
          }
        },
        "55c3e5173a934e798d714c4cbb532336": {
          "model_module": "@jupyter-widgets/controls",
          "model_name": "FloatProgressModel",
          "state": {
            "_view_name": "ProgressView",
            "style": "IPY_MODEL_4a5f42df31b449e4806aa058986c9be5",
            "_dom_classes": [],
            "description": "my bar!: 100%",
            "_model_name": "FloatProgressModel",
            "bar_style": "success",
            "max": 1000,
            "_view_module": "@jupyter-widgets/controls",
            "_model_module_version": "1.5.0",
            "value": 1000,
            "_view_count": null,
            "_view_module_version": "1.5.0",
            "orientation": "horizontal",
            "min": 0,
            "description_tooltip": null,
            "_model_module": "@jupyter-widgets/controls",
            "layout": "IPY_MODEL_50c68c473948472580c270c6f8186bea"
          }
        },
        "edb1e2ac8da74d2dbeacc976dfeea177": {
          "model_module": "@jupyter-widgets/controls",
          "model_name": "HTMLModel",
          "state": {
            "_view_name": "HTMLView",
            "style": "IPY_MODEL_9a0bca335f884704a2105664bb4f0151",
            "_dom_classes": [],
            "description": "",
            "_model_name": "HTMLModel",
            "placeholder": "​",
            "_view_module": "@jupyter-widgets/controls",
            "_model_module_version": "1.5.0",
            "value": " 1000/1000 [00:00&lt;00:00, 6321.54it/s]",
            "_view_count": null,
            "_view_module_version": "1.5.0",
            "description_tooltip": null,
            "_model_module": "@jupyter-widgets/controls",
            "layout": "IPY_MODEL_5f261ed62a8a40b9b82fb5d60e1bb852"
          }
        },
        "4a5f42df31b449e4806aa058986c9be5": {
          "model_module": "@jupyter-widgets/controls",
          "model_name": "ProgressStyleModel",
          "state": {
            "_view_name": "StyleView",
            "_model_name": "ProgressStyleModel",
            "description_width": "initial",
            "_view_module": "@jupyter-widgets/base",
            "_model_module_version": "1.5.0",
            "_view_count": null,
            "_view_module_version": "1.2.0",
            "bar_color": null,
            "_model_module": "@jupyter-widgets/controls"
          }
        },
        "50c68c473948472580c270c6f8186bea": {
          "model_module": "@jupyter-widgets/base",
          "model_name": "LayoutModel",
          "state": {
            "_view_name": "LayoutView",
            "grid_template_rows": null,
            "right": null,
            "justify_content": null,
            "_view_module": "@jupyter-widgets/base",
            "overflow": null,
            "_model_module_version": "1.2.0",
            "_view_count": null,
            "flex_flow": null,
            "width": null,
            "min_width": null,
            "border": null,
            "align_items": null,
            "bottom": null,
            "_model_module": "@jupyter-widgets/base",
            "top": null,
            "grid_column": null,
            "overflow_y": null,
            "overflow_x": null,
            "grid_auto_flow": null,
            "grid_area": null,
            "grid_template_columns": null,
            "flex": null,
            "_model_name": "LayoutModel",
            "justify_items": null,
            "grid_row": null,
            "max_height": null,
            "align_content": null,
            "visibility": null,
            "align_self": null,
            "height": null,
            "min_height": null,
            "padding": null,
            "grid_auto_rows": null,
            "grid_gap": null,
            "max_width": null,
            "order": null,
            "_view_module_version": "1.2.0",
            "grid_template_areas": null,
            "object_position": null,
            "object_fit": null,
            "grid_auto_columns": null,
            "margin": null,
            "display": null,
            "left": null
          }
        },
        "9a0bca335f884704a2105664bb4f0151": {
          "model_module": "@jupyter-widgets/controls",
          "model_name": "DescriptionStyleModel",
          "state": {
            "_view_name": "StyleView",
            "_model_name": "DescriptionStyleModel",
            "description_width": "",
            "_view_module": "@jupyter-widgets/base",
            "_model_module_version": "1.5.0",
            "_view_count": null,
            "_view_module_version": "1.2.0",
            "_model_module": "@jupyter-widgets/controls"
          }
        },
        "5f261ed62a8a40b9b82fb5d60e1bb852": {
          "model_module": "@jupyter-widgets/base",
          "model_name": "LayoutModel",
          "state": {
            "_view_name": "LayoutView",
            "grid_template_rows": null,
            "right": null,
            "justify_content": null,
            "_view_module": "@jupyter-widgets/base",
            "overflow": null,
            "_model_module_version": "1.2.0",
            "_view_count": null,
            "flex_flow": null,
            "width": null,
            "min_width": null,
            "border": null,
            "align_items": null,
            "bottom": null,
            "_model_module": "@jupyter-widgets/base",
            "top": null,
            "grid_column": null,
            "overflow_y": null,
            "overflow_x": null,
            "grid_auto_flow": null,
            "grid_area": null,
            "grid_template_columns": null,
            "flex": null,
            "_model_name": "LayoutModel",
            "justify_items": null,
            "grid_row": null,
            "max_height": null,
            "align_content": null,
            "visibility": null,
            "align_self": null,
            "height": null,
            "min_height": null,
            "padding": null,
            "grid_auto_rows": null,
            "grid_gap": null,
            "max_width": null,
            "order": null,
            "_view_module_version": "1.2.0",
            "grid_template_areas": null,
            "object_position": null,
            "object_fit": null,
            "grid_auto_columns": null,
            "margin": null,
            "display": null,
            "left": null
          }
        }
      }
    }
  },
  "cells": [
    {
      "cell_type": "markdown",
      "metadata": {
        "id": "CH0j7ukRMq7K"
      },
      "source": [
        "# Training Document Retrieval"
      ]
    },
    {
      "cell_type": "markdown",
      "metadata": {
        "id": "XmcESnuEuIxD"
      },
      "source": [
        "## Load Data"
      ]
    },
    {
      "cell_type": "code",
      "metadata": {
        "colab": {
          "base_uri": "https://localhost:8080/"
        },
        "id": "QPN8yojBATLz",
        "outputId": "446676dc-8072-492b-b56a-cd18210ae236"
      },
      "source": [
        "# mount google drive\n",
        "from google.colab import drive\n",
        "drive.mount('/content/drive')"
      ],
      "execution_count": null,
      "outputs": [
        {
          "output_type": "stream",
          "text": [
            "Drive already mounted at /content/drive; to attempt to forcibly remount, call drive.mount(\"/content/drive\", force_remount=True).\n"
          ],
          "name": "stdout"
        }
      ]
    },
    {
      "cell_type": "code",
      "metadata": {
        "id": "NVq95XnDAZwA"
      },
      "source": [
        "import pandas as pd\n",
        "training_corpus = pd.read_csv('drive/My Drive/SMT 2/NLP/Tugas Project/training_corpus_preprocessed.csv')\n",
        "testing_corpus = pd.read_csv('drive/My Drive/SMT 2/NLP/Tugas Project/testing_corpus_preprocessed.csv')\n",
        "\n",
        "training_queries = pd.read_csv('drive/My Drive/SMT 2/NLP/Tugas Project/training_queries_preprocessed.csv')\n",
        "testing_queries = pd.read_csv('drive/My Drive/SMT 2/NLP/Tugas Project/testing_queries_preprocessed.csv')\n",
        "\n",
        "training_result = pd.read_csv('drive/My Drive/SMT 2/NLP/Tugas Project/training_result.csv')\n",
        "testing_result = pd.read_csv('drive/My Drive/SMT 2/NLP/Tugas Project/testing_result.csv')"
      ],
      "execution_count": null,
      "outputs": []
    },
    {
      "cell_type": "code",
      "metadata": {
        "id": "xpt4J4hzVUM9"
      },
      "source": [
        "training_corpus.drop(columns=['Unnamed: 0', 'Unnamed: 0.1', 'url'],inplace=True)\n",
        "testing_corpus.drop(columns=['vector','Unnamed: 0', 'Unnamed: 0.1', 'url'], inplace=True)"
      ],
      "execution_count": null,
      "outputs": []
    },
    {
      "cell_type": "markdown",
      "metadata": {
        "id": "03oCzzPeWkRL"
      },
      "source": [
        "## Remove Punctuation"
      ]
    },
    {
      "cell_type": "code",
      "metadata": {
        "id": "Dzf-T6tUWUd_"
      },
      "source": [
        "import re\n",
        "def punc_remove(sentence):\n",
        "  punc = re.compile(\"[^\\w\\s]\")\n",
        "\n",
        "  test_str = punc.sub(' ',sentence)\n",
        "  test_str = test_str.split(' ')\n",
        "\n",
        "  x = ' '.join(test_str)\n",
        "\n",
        "  return x"
      ],
      "execution_count": null,
      "outputs": []
    },
    {
      "cell_type": "code",
      "metadata": {
        "colab": {
          "base_uri": "https://localhost:8080/"
        },
        "id": "MOxHsYzHMFmH",
        "outputId": "f074223b-7acb-44dd-b4f8-2c62d9e1707e"
      },
      "source": [
        "from tqdm.auto import tqdm\n",
        "tqdm.pandas(desc=\"my bar!\")"
      ],
      "execution_count": null,
      "outputs": [
        {
          "output_type": "stream",
          "text": [
            "/usr/local/lib/python3.7/dist-packages/tqdm/std.py:658: FutureWarning: The Panel class is removed from pandas. Accessing it from the top-level namespace will also be removed in the next version\n",
            "  from pandas import Panel\n"
          ],
          "name": "stderr"
        }
      ]
    },
    {
      "cell_type": "code",
      "metadata": {
        "colab": {
          "base_uri": "https://localhost:8080/",
          "height": 220,
          "referenced_widgets": [
            "86db544cf69b4c3eb41f36932c471f88",
            "c27c46a8349c40028503db24b99b684f",
            "5f1ecc122f2544bb9a5192d1b9e529cb",
            "f00acb694a5f49218432e132dc31bbc3",
            "01fa92c353474053b96b9d4cbf47200e",
            "b011e0356ceb4b3f8898cfe8b17b021c",
            "e8b4261a4ca0442586db65ec39cc5e3d",
            "7da20868f2de4f26b55355374347d718",
            "c77661cc5f9849288453442f3f5eda07",
            "ec26c8d2c44c43df98e0467cb74ae0ff",
            "a2bb08eedceb409fb539434bf41a33b8",
            "f3a9ed689eb444c2aba7d2f71d39c0bd",
            "d795a00d53084bd384dacc988322aa58",
            "8fde5ae3625c4e25b4aefc542e96781a",
            "cc417ceda1e74a528cc19e896c28b0f8",
            "93c907be97b647b2a8bdd8cbdae14a00",
            "6a40b6d31e3247a7a9cc153616eb1bcf",
            "d2724428dbe24f8b92f78dd9d1758bf1",
            "aa5224fece5245f99021975d006ed599",
            "7d06b87a7cd342eda1ce34f83dac7794",
            "12731e0e5f8c436f8663bd7f11ec7049",
            "c1b908fc108444db80531c720e815373",
            "7bc7a06268a2440c89bceebb89de8385",
            "0bed03700ea74300950d0e240e676966",
            "7d67dec081304fd7ae366daa0f04bce1",
            "7e59e55eb57f4a6b8c167596635887b1",
            "55c3e5173a934e798d714c4cbb532336",
            "edb1e2ac8da74d2dbeacc976dfeea177",
            "4a5f42df31b449e4806aa058986c9be5",
            "50c68c473948472580c270c6f8186bea",
            "9a0bca335f884704a2105664bb4f0151",
            "5f261ed62a8a40b9b82fb5d60e1bb852"
          ]
        },
        "id": "8pKpmWXxBgK5",
        "outputId": "c594935d-c544-48a2-fcc1-bc92d31d719c"
      },
      "source": [
        "training_corpus['cleaned'] = training_corpus['cleaned'].progress_apply(lambda x: punc_remove(x))\n",
        "testing_corpus['cleaned'] = testing_corpus['cleaned'].progress_apply(lambda x: punc_remove(x))\n",
        "training_queries['cleaned'] = training_queries['cleaned'].progress_apply(lambda x: punc_remove(x))\n",
        "testing_queries['cleaned'] = testing_queries['cleaned'].progress_apply(lambda x: punc_remove(x))"
      ],
      "execution_count": null,
      "outputs": [
        {
          "output_type": "display_data",
          "data": {
            "application/vnd.jupyter.widget-view+json": {
              "model_id": "86db544cf69b4c3eb41f36932c471f88",
              "version_minor": 0,
              "version_major": 2
            },
            "text/plain": [
              "HBox(children=(FloatProgress(value=0.0, description='my bar!', max=19505.0, style=ProgressStyle(description_wi…"
            ]
          },
          "metadata": {
            "tags": []
          }
        },
        {
          "output_type": "stream",
          "text": [
            "\n"
          ],
          "name": "stdout"
        },
        {
          "output_type": "display_data",
          "data": {
            "application/vnd.jupyter.widget-view+json": {
              "model_id": "c77661cc5f9849288453442f3f5eda07",
              "version_minor": 0,
              "version_major": 2
            },
            "text/plain": [
              "HBox(children=(FloatProgress(value=0.0, description='my bar!', max=19570.0, style=ProgressStyle(description_wi…"
            ]
          },
          "metadata": {
            "tags": []
          }
        },
        {
          "output_type": "stream",
          "text": [
            "\n"
          ],
          "name": "stdout"
        },
        {
          "output_type": "display_data",
          "data": {
            "application/vnd.jupyter.widget-view+json": {
              "model_id": "6a40b6d31e3247a7a9cc153616eb1bcf",
              "version_minor": 0,
              "version_major": 2
            },
            "text/plain": [
              "HBox(children=(FloatProgress(value=0.0, description='my bar!', max=1000.0, style=ProgressStyle(description_wid…"
            ]
          },
          "metadata": {
            "tags": []
          }
        },
        {
          "output_type": "stream",
          "text": [
            "\n"
          ],
          "name": "stdout"
        },
        {
          "output_type": "display_data",
          "data": {
            "application/vnd.jupyter.widget-view+json": {
              "model_id": "7d67dec081304fd7ae366daa0f04bce1",
              "version_minor": 0,
              "version_major": 2
            },
            "text/plain": [
              "HBox(children=(FloatProgress(value=0.0, description='my bar!', max=1000.0, style=ProgressStyle(description_wid…"
            ]
          },
          "metadata": {
            "tags": []
          }
        },
        {
          "output_type": "stream",
          "text": [
            "\n"
          ],
          "name": "stdout"
        }
      ]
    },
    {
      "cell_type": "markdown",
      "metadata": {
        "id": "PSnky65IPedB"
      },
      "source": [
        "## Word2Vec"
      ]
    },
    {
      "cell_type": "code",
      "metadata": {
        "id": "XNwdt6JIPaH-"
      },
      "source": [
        "# Combining corpus and queries for training\n",
        "combined_training=pd.concat([training_corpus.rename(columns={'cleaned':'text'})['text'],\\\n",
        "                             training_queries.rename(columns={'cleaned':'text'})['text']])\\\n",
        "                             .sample(frac=1).reset_index(drop=True)"
      ],
      "execution_count": null,
      "outputs": []
    },
    {
      "cell_type": "code",
      "metadata": {
        "id": "aArEfstDPo1u"
      },
      "source": [
        "from gensim.models import Word2Vec\n",
        "\n",
        "# Creating data for the model training\n",
        "train_data=[]\n",
        "for i in combined_training:\n",
        "    train_data.append(i.split())\n",
        "\n",
        "# Training a word2vec model from the given data set\n",
        "w2v_model_skipgram = Word2Vec(train_data, size=300, min_count=2,window=5, sg=1,workers=4)\n",
        "w2v_model_cbow = Word2Vec(train_data, size=300, min_count=2,window=5, sg=0,workers=4)"
      ],
      "execution_count": null,
      "outputs": []
    },
    {
      "cell_type": "code",
      "metadata": {
        "id": "db_771tWPuTq"
      },
      "source": [
        "import numpy as np\n",
        "\n",
        "# Function returning vector reperesentation of a document\n",
        "def get_embedding_w2v_cbow(doc_tokens):\n",
        "    embeddings = []\n",
        "    if len(doc_tokens)<1:\n",
        "        return np.zeros(300)\n",
        "    else:\n",
        "        for tok in doc_tokens:\n",
        "            if tok in w2v_model_cbow.wv.vocab:\n",
        "                embeddings.append(w2v_model_cbow.wv.word_vec(tok))\n",
        "            else:\n",
        "                embeddings.append(np.random.rand(300))\n",
        "        # mean the vectors of individual words to get the vector of the document\n",
        "        return np.mean(embeddings, axis=0)"
      ],
      "execution_count": null,
      "outputs": []
    },
    {
      "cell_type": "code",
      "metadata": {
        "id": "iamtM1FQcrx8"
      },
      "source": [
        "import numpy as np\n",
        "\n",
        "# Function returning vector reperesentation of a document\n",
        "def get_embedding_w2v_skipgram(doc_tokens):\n",
        "    embeddings = []\n",
        "    if len(doc_tokens)<1:\n",
        "        return np.zeros(300)\n",
        "    else:\n",
        "        for tok in doc_tokens:\n",
        "            if tok in w2v_model_skipgram.wv.vocab:\n",
        "                embeddings.append(w2v_model_skipgram.wv.word_vec(tok))\n",
        "            else:\n",
        "                embeddings.append(np.random.rand(300))\n",
        "        # mean the vectors of individual words to get the vector of the document\n",
        "        return np.mean(embeddings, axis=0)"
      ],
      "execution_count": null,
      "outputs": []
    },
    {
      "cell_type": "code",
      "metadata": {
        "id": "Zidrn3gMcq40"
      },
      "source": [
        "# Getting Word2Vec Vectors for Testing Corpus and Queries\n",
        "testing_corpus['vector_cbow']=testing_corpus['cleaned'].apply(lambda x :get_embedding_w2v_cbow(x.split()))\n",
        "testing_queries['vector_cbow']=testing_queries['cleaned'].apply(lambda x :get_embedding_w2v_cbow(x.split()))\n",
        "\n",
        "# Getting Word2Vec Vectors for Testing Corpus and Queries\n",
        "testing_corpus['vector_skipgram']=testing_corpus['cleaned'].apply(lambda x :get_embedding_w2v_skipgram(x.split()))\n",
        "testing_queries['vector_skipgram']=testing_queries['cleaned'].apply(lambda x :get_embedding_w2v_skipgram(x.split()))"
      ],
      "execution_count": null,
      "outputs": []
    },
    {
      "cell_type": "markdown",
      "metadata": {
        "id": "8U1L9nzks2b4"
      },
      "source": [
        "## Accuracy CBOW"
      ]
    },
    {
      "cell_type": "code",
      "metadata": {
        "colab": {
          "base_uri": "https://localhost:8080/"
        },
        "id": "5fhD0P21XapI",
        "outputId": "bd9a6d29-e186-43bc-b7a8-9fe3e68bcd61"
      },
      "source": [
        "from sklearn.metrics.pairwise import cosine_similarity\n",
        "\n",
        "# Function for calculating average precision for a query\n",
        "def average_precision_cbow(qid,qvector):\n",
        "  \n",
        "  # Getting the ground truth and document vectors\n",
        "  qresult=testing_result.loc[testing_result['qid']==qid,['docid','rel']]\n",
        "  qcorpus=testing_corpus.loc[testing_corpus['docid'].isin(qresult['docid']),['docid','vector_cbow']]\n",
        "  qresult=pd.merge(qresult,qcorpus,on='docid')\n",
        "  \n",
        "  # Ranking documents for the query\n",
        "  qresult['similarity']=qresult['vector_cbow'].apply(lambda x: cosine_similarity(np.array(qvector).reshape(1, -1),np.array(x).reshape(1, -1)).item())\n",
        "  qresult.sort_values(by='similarity',ascending=False,inplace=True)\n",
        "\n",
        "  # Taking Top 10 documents for the evaluation\n",
        "  ranking=qresult.head(10)['rel'].values\n",
        "  \n",
        "  # Calculating precision\n",
        "  precision=[]\n",
        "  for i in range(1,11):\n",
        "    if ranking[i-1]:\n",
        "      precision.append(np.sum(ranking[:i])/i)\n",
        "  \n",
        "  # If no relevant document in list then return 0\n",
        "  if precision==[]:\n",
        "    return 0\n",
        "\n",
        "  return np.mean(precision)\n",
        "\n",
        "# Calculating average precision for all queries in the test set\n",
        "testing_queries['AP']=testing_queries.apply(lambda x: average_precision_cbow(x['qid'],x['vector_cbow']),axis=1)\n",
        "\n",
        "# Finding Mean Average Precision\n",
        "print('Mean Average Precision=>',testing_queries['AP'].mean())"
      ],
      "execution_count": null,
      "outputs": [
        {
          "output_type": "stream",
          "text": [
            "Mean Average Precision=> 0.7761172806437401\n"
          ],
          "name": "stdout"
        }
      ]
    },
    {
      "cell_type": "markdown",
      "metadata": {
        "id": "ZlsTCYl_tL8h"
      },
      "source": [
        "## Accuracy SkipGram"
      ]
    },
    {
      "cell_type": "code",
      "metadata": {
        "colab": {
          "base_uri": "https://localhost:8080/"
        },
        "id": "dpzIgsUMtL8l",
        "outputId": "6bc75025-cf35-4270-fad7-fedf79992885"
      },
      "source": [
        "from sklearn.metrics.pairwise import cosine_similarity\n",
        "\n",
        "# Function for calculating average precision for a query\n",
        "def average_precision_skipgram(qid,qvector):\n",
        "  \n",
        "  # Getting the ground truth and document vectors\n",
        "  qresult=testing_result.loc[testing_result['qid']==qid,['docid','rel']]\n",
        "  qcorpus=testing_corpus.loc[testing_corpus['docid'].isin(qresult['docid']),['docid','vector_skipgram']]\n",
        "  qresult=pd.merge(qresult,qcorpus,on='docid')\n",
        "  \n",
        "  # Ranking documents for the query\n",
        "  qresult['similarity']=qresult['vector_skipgram'].apply(lambda x: cosine_similarity(np.array(qvector).reshape(1, -1),np.array(x).reshape(1, -1)).item())\n",
        "  qresult.sort_values(by='similarity',ascending=False,inplace=True)\n",
        "\n",
        "  # Taking Top 10 documents for the evaluation\n",
        "  ranking=qresult.head(10)['rel'].values\n",
        "  \n",
        "  # Calculating precision\n",
        "  precision=[]\n",
        "  for i in range(1,11):\n",
        "    if ranking[i-1]:\n",
        "      precision.append(np.sum(ranking[:i])/i)\n",
        "  \n",
        "  # If no relevant document in list then return 0\n",
        "  if precision==[]:\n",
        "    return 0\n",
        "\n",
        "  return np.mean(precision)\n",
        "\n",
        "# Calculating average precision for all queries in the test set\n",
        "testing_queries['AP']=testing_queries.apply(lambda x: average_precision_skipgram(x['qid'],x['vector_skipgram']),axis=1)\n",
        "\n",
        "# Finding Mean Average Precision\n",
        "print('Mean Average Precision=>',testing_queries['AP'].mean())"
      ],
      "execution_count": null,
      "outputs": [
        {
          "output_type": "stream",
          "text": [
            "Mean Average Precision=> 0.8022947727702198\n"
          ],
          "name": "stdout"
        }
      ]
    },
    {
      "cell_type": "markdown",
      "metadata": {
        "id": "fhr6IusH0FP9"
      },
      "source": [
        "## Save Model"
      ]
    },
    {
      "cell_type": "code",
      "metadata": {
        "id": "Woz8wuvp0Azb"
      },
      "source": [
        "w2v_model_skipgram.save('drive/My Drive/SMT 2/NLP/Tugas Project/w3v_skipgram.model')\n",
        "w2v_model_cbow.save('drive/My Drive/SMT 2/NLP/Tugas Project/w3v_cbow.model')"
      ],
      "execution_count": 18,
      "outputs": []
    },
    {
      "cell_type": "code",
      "metadata": {
        "id": "hx6PfdGS0oxN"
      },
      "source": [
        ""
      ],
      "execution_count": null,
      "outputs": []
    }
  ]
}